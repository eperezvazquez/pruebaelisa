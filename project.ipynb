{
 "cells": [
  {
   "cell_type": "markdown",
   "id": "c4e52ee5",
   "metadata": {},
   "source": [
    "## The dataset\n",
    "\n",
    "This is a real dataset and it was downloaded using web scraping techniques. The data contains registers from fotocasa which is one of the most popular websites of real estate in Spain. Please, do not do this (web scraping) unless it is for academic purposes.\n",
    "\n",
    "The dataset was downloaded a few years ago by Henry Navarro and In no case were economic returns obtained from it.\n",
    "\n",
    "It contains thousands of data from real homes published on the web www.fotocasa.com. Your goal is to extract as much information as possible with the knowledge you have so far about data science, for example what is the most expensive home in the entire dataset?\n",
    "\n",
    "Let's start with precisely that question... Good luck!\n"
   ]
  },
  {
   "cell_type": "markdown",
   "id": "dd97255d",
   "metadata": {},
   "source": [
    "#### Read the dataset assets/real_estate.csv and try to visualize the table (★☆☆)"
   ]
  },
  {
   "cell_type": "code",
   "execution_count": 19,
   "id": "4b93d9c8",
   "metadata": {},
   "outputs": [
    {
     "name": "stdout",
     "output_type": "stream",
     "text": [
      "       Unnamed: 0  id_realEstates  isNew                    realEstate_name  \\\n",
      "0               1       153771986  False            ferrari 57 inmobiliaria   \n",
      "1               2       153867863  False  tecnocasa fuenlabrada ferrocarril   \n",
      "2               3       153430440  False                 look find boadilla   \n",
      "3               4       152776331  False  tecnocasa fuenlabrada ferrocarril   \n",
      "4               5       153180188  False            ferrari 57 inmobiliaria   \n",
      "...           ...             ...    ...                                ...   \n",
      "15330       15331       153901377  False                infocasa consulting   \n",
      "15331       15332       150394373  False                inmobiliaria pulpon   \n",
      "15332       15333       153901397  False             tecnocasa torrelodones   \n",
      "15333       15334       152607440  False                inmobiliaria pulpon   \n",
      "15334       15335       153901356  False                infocasa consulting   \n",
      "\n",
      "       phone_realEstate                                       url_inmueble  \\\n",
      "0           912177526.0  https://www.fotocasa.es/es/comprar/vivienda/ma...   \n",
      "1           916358736.0  https://www.fotocasa.es/es/comprar/vivienda/ma...   \n",
      "2           916350408.0  https://www.fotocasa.es/es/comprar/vivienda/ma...   \n",
      "3           916358736.0  https://www.fotocasa.es/es/comprar/vivienda/ma...   \n",
      "4           912177526.0  https://www.fotocasa.es/es/comprar/vivienda/ma...   \n",
      "...                 ...                                                ...   \n",
      "15330       911360461.0  https://www.fotocasa.es/es/comprar/vivienda/ma...   \n",
      "15331       912788039.0  https://www.fotocasa.es/es/comprar/vivienda/ma...   \n",
      "15332       912780348.0  https://www.fotocasa.es/es/comprar/vivienda/ma...   \n",
      "15333       912788039.0  https://www.fotocasa.es/es/comprar/vivienda/ma...   \n",
      "15334       911360461.0  https://www.fotocasa.es/es/comprar/vivienda/ma...   \n",
      "\n",
      "       rooms  bathrooms  surface   price  ... level4Id level5Id level6Id  \\\n",
      "0        3.0        2.0    103.0  195000  ...        0        0        0   \n",
      "1        3.0        1.0      NaN   89000  ...        0        0        0   \n",
      "2        2.0        2.0     99.0  390000  ...        0        0        0   \n",
      "3        3.0        1.0     86.0   89000  ...        0        0        0   \n",
      "4        2.0        2.0    106.0  172000  ...        0        0        0   \n",
      "...      ...        ...      ...     ...  ...      ...      ...      ...   \n",
      "15330    2.0        1.0     96.0  259470  ...        0        0        0   \n",
      "15331    3.0        1.0    150.0  165000  ...        0        0        0   \n",
      "15332    4.0        2.0    175.0  495000  ...        0        0        0   \n",
      "15333    3.0        2.0    101.0  195000  ...        0        0        0   \n",
      "15334    3.0        2.0    152.0  765000  ...        0        0        0   \n",
      "\n",
      "      level7Id level8Id accuracy          latitude          longitude zipCode  \\\n",
      "0            0        0        0  40,2948276786438  -3,44402412135624     NaN   \n",
      "1            0        0        1          40,28674           -3,79351     NaN   \n",
      "2            0        0        0  40,4115646786438  -3,90662252135624     NaN   \n",
      "3            0        0        0  40,2853785786438  -3,79508142135624     NaN   \n",
      "4            0        0        0  40,2998774864376  -3,45226301356237     NaN   \n",
      "...        ...      ...      ...               ...                ...     ...   \n",
      "15330        0        0        0          40,45416           -3,70286     NaN   \n",
      "15331        0        0        0          40,36652           -3,48951     NaN   \n",
      "15332        0        0        0          40,57444           -3,92124     NaN   \n",
      "15333        0        0        0          40,36967           -3,48105     NaN   \n",
      "15334        0        0        0          40,45773           -3,69068     NaN   \n",
      "\n",
      "      customZone  \n",
      "0            NaN  \n",
      "1            NaN  \n",
      "2            NaN  \n",
      "3            NaN  \n",
      "4            NaN  \n",
      "...          ...  \n",
      "15330        NaN  \n",
      "15331        NaN  \n",
      "15332        NaN  \n",
      "15333        NaN  \n",
      "15334        NaN  \n",
      "\n",
      "[15335 rows x 37 columns]\n",
      "<class 'pandas.core.frame.DataFrame'>\n",
      "RangeIndex: 15335 entries, 0 to 15334\n",
      "Data columns (total 37 columns):\n",
      " #   Column            Non-Null Count  Dtype  \n",
      "---  ------            --------------  -----  \n",
      " 0   Unnamed: 0        15335 non-null  int64  \n",
      " 1   id_realEstates    15335 non-null  int64  \n",
      " 2   isNew             15335 non-null  bool   \n",
      " 3   realEstate_name   15325 non-null  object \n",
      " 4   phone_realEstate  14541 non-null  float64\n",
      " 5   url_inmueble      15335 non-null  object \n",
      " 6   rooms             14982 non-null  float64\n",
      " 7   bathrooms         14990 non-null  float64\n",
      " 8   surface           14085 non-null  float64\n",
      " 9   price             15335 non-null  int64  \n",
      " 10  date              15335 non-null  object \n",
      " 11  description       15193 non-null  object \n",
      " 12  address           15335 non-null  object \n",
      " 13  country           15335 non-null  object \n",
      " 14  level1            15335 non-null  object \n",
      " 15  level2            15335 non-null  object \n",
      " 16  level3            15335 non-null  object \n",
      " 17  level4            8692 non-null   object \n",
      " 18  level5            15335 non-null  object \n",
      " 19  level6            708 non-null    object \n",
      " 20  level7            13058 non-null  object \n",
      " 21  level8            6756 non-null   object \n",
      " 22  upperLevel        15335 non-null  object \n",
      " 23  countryId         15335 non-null  int64  \n",
      " 24  level1Id          15335 non-null  int64  \n",
      " 25  level2Id          15335 non-null  int64  \n",
      " 26  level3Id          15335 non-null  int64  \n",
      " 27  level4Id          15335 non-null  int64  \n",
      " 28  level5Id          15335 non-null  int64  \n",
      " 29  level6Id          15335 non-null  int64  \n",
      " 30  level7Id          15335 non-null  int64  \n",
      " 31  level8Id          15335 non-null  int64  \n",
      " 32  accuracy          15335 non-null  int64  \n",
      " 33  latitude          15335 non-null  object \n",
      " 34  longitude         15335 non-null  object \n",
      " 35  zipCode           0 non-null      float64\n",
      " 36  customZone        0 non-null      float64\n",
      "dtypes: bool(1), float64(6), int64(13), object(17)\n",
      "memory usage: 4.2+ MB\n"
     ]
    },
    {
     "data": {
      "text/html": [
       "<div>\n",
       "<style scoped>\n",
       "    .dataframe tbody tr th:only-of-type {\n",
       "        vertical-align: middle;\n",
       "    }\n",
       "\n",
       "    .dataframe tbody tr th {\n",
       "        vertical-align: top;\n",
       "    }\n",
       "\n",
       "    .dataframe thead th {\n",
       "        text-align: right;\n",
       "    }\n",
       "</style>\n",
       "<table border=\"1\" class=\"dataframe\">\n",
       "  <thead>\n",
       "    <tr style=\"text-align: right;\">\n",
       "      <th></th>\n",
       "      <th>Unnamed: 0</th>\n",
       "      <th>id_realEstates</th>\n",
       "      <th>phone_realEstate</th>\n",
       "      <th>rooms</th>\n",
       "      <th>bathrooms</th>\n",
       "      <th>surface</th>\n",
       "      <th>price</th>\n",
       "      <th>countryId</th>\n",
       "      <th>level1Id</th>\n",
       "      <th>level2Id</th>\n",
       "      <th>level3Id</th>\n",
       "      <th>level4Id</th>\n",
       "      <th>level5Id</th>\n",
       "      <th>level6Id</th>\n",
       "      <th>level7Id</th>\n",
       "      <th>level8Id</th>\n",
       "      <th>accuracy</th>\n",
       "      <th>zipCode</th>\n",
       "      <th>customZone</th>\n",
       "    </tr>\n",
       "  </thead>\n",
       "  <tbody>\n",
       "    <tr>\n",
       "      <th>count</th>\n",
       "      <td>15335.000000</td>\n",
       "      <td>1.533500e+04</td>\n",
       "      <td>1.454100e+04</td>\n",
       "      <td>14982.000000</td>\n",
       "      <td>14990.000000</td>\n",
       "      <td>14085.000000</td>\n",
       "      <td>1.533500e+04</td>\n",
       "      <td>15335.0</td>\n",
       "      <td>15335.0</td>\n",
       "      <td>15335.0</td>\n",
       "      <td>15335.0</td>\n",
       "      <td>15335.0</td>\n",
       "      <td>15335.0</td>\n",
       "      <td>15335.0</td>\n",
       "      <td>15335.0</td>\n",
       "      <td>15335.0</td>\n",
       "      <td>15335.000000</td>\n",
       "      <td>0.0</td>\n",
       "      <td>0.0</td>\n",
       "    </tr>\n",
       "    <tr>\n",
       "      <th>mean</th>\n",
       "      <td>7668.000000</td>\n",
       "      <td>1.524371e+08</td>\n",
       "      <td>9.143423e+08</td>\n",
       "      <td>3.231611</td>\n",
       "      <td>2.150233</td>\n",
       "      <td>196.916436</td>\n",
       "      <td>4.773036e+05</td>\n",
       "      <td>0.0</td>\n",
       "      <td>0.0</td>\n",
       "      <td>0.0</td>\n",
       "      <td>0.0</td>\n",
       "      <td>0.0</td>\n",
       "      <td>0.0</td>\n",
       "      <td>0.0</td>\n",
       "      <td>0.0</td>\n",
       "      <td>0.0</td>\n",
       "      <td>0.166873</td>\n",
       "      <td>NaN</td>\n",
       "      <td>NaN</td>\n",
       "    </tr>\n",
       "    <tr>\n",
       "      <th>std</th>\n",
       "      <td>4426.977524</td>\n",
       "      <td>2.277286e+06</td>\n",
       "      <td>7.516036e+06</td>\n",
       "      <td>1.393106</td>\n",
       "      <td>1.292079</td>\n",
       "      <td>2182.758313</td>\n",
       "      <td>5.912942e+05</td>\n",
       "      <td>0.0</td>\n",
       "      <td>0.0</td>\n",
       "      <td>0.0</td>\n",
       "      <td>0.0</td>\n",
       "      <td>0.0</td>\n",
       "      <td>0.0</td>\n",
       "      <td>0.0</td>\n",
       "      <td>0.0</td>\n",
       "      <td>0.0</td>\n",
       "      <td>0.372875</td>\n",
       "      <td>NaN</td>\n",
       "      <td>NaN</td>\n",
       "    </tr>\n",
       "    <tr>\n",
       "      <th>min</th>\n",
       "      <td>1.000000</td>\n",
       "      <td>1.221584e+08</td>\n",
       "      <td>8.762742e+08</td>\n",
       "      <td>1.000000</td>\n",
       "      <td>1.000000</td>\n",
       "      <td>15.000000</td>\n",
       "      <td>0.000000e+00</td>\n",
       "      <td>0.0</td>\n",
       "      <td>0.0</td>\n",
       "      <td>0.0</td>\n",
       "      <td>0.0</td>\n",
       "      <td>0.0</td>\n",
       "      <td>0.0</td>\n",
       "      <td>0.0</td>\n",
       "      <td>0.0</td>\n",
       "      <td>0.0</td>\n",
       "      <td>0.000000</td>\n",
       "      <td>NaN</td>\n",
       "      <td>NaN</td>\n",
       "    </tr>\n",
       "    <tr>\n",
       "      <th>25%</th>\n",
       "      <td>3834.500000</td>\n",
       "      <td>1.519456e+08</td>\n",
       "      <td>9.113649e+08</td>\n",
       "      <td>2.000000</td>\n",
       "      <td>1.000000</td>\n",
       "      <td>80.000000</td>\n",
       "      <td>1.690000e+05</td>\n",
       "      <td>0.0</td>\n",
       "      <td>0.0</td>\n",
       "      <td>0.0</td>\n",
       "      <td>0.0</td>\n",
       "      <td>0.0</td>\n",
       "      <td>0.0</td>\n",
       "      <td>0.0</td>\n",
       "      <td>0.0</td>\n",
       "      <td>0.0</td>\n",
       "      <td>0.000000</td>\n",
       "      <td>NaN</td>\n",
       "      <td>NaN</td>\n",
       "    </tr>\n",
       "    <tr>\n",
       "      <th>50%</th>\n",
       "      <td>7668.000000</td>\n",
       "      <td>1.532413e+08</td>\n",
       "      <td>9.121841e+08</td>\n",
       "      <td>3.000000</td>\n",
       "      <td>2.000000</td>\n",
       "      <td>114.000000</td>\n",
       "      <td>2.800000e+05</td>\n",
       "      <td>0.0</td>\n",
       "      <td>0.0</td>\n",
       "      <td>0.0</td>\n",
       "      <td>0.0</td>\n",
       "      <td>0.0</td>\n",
       "      <td>0.0</td>\n",
       "      <td>0.0</td>\n",
       "      <td>0.0</td>\n",
       "      <td>0.0</td>\n",
       "      <td>0.000000</td>\n",
       "      <td>NaN</td>\n",
       "      <td>NaN</td>\n",
       "    </tr>\n",
       "    <tr>\n",
       "      <th>75%</th>\n",
       "      <td>11501.500000</td>\n",
       "      <td>1.538105e+08</td>\n",
       "      <td>9.148904e+08</td>\n",
       "      <td>4.000000</td>\n",
       "      <td>3.000000</td>\n",
       "      <td>205.000000</td>\n",
       "      <td>5.400000e+05</td>\n",
       "      <td>0.0</td>\n",
       "      <td>0.0</td>\n",
       "      <td>0.0</td>\n",
       "      <td>0.0</td>\n",
       "      <td>0.0</td>\n",
       "      <td>0.0</td>\n",
       "      <td>0.0</td>\n",
       "      <td>0.0</td>\n",
       "      <td>0.0</td>\n",
       "      <td>0.000000</td>\n",
       "      <td>NaN</td>\n",
       "      <td>NaN</td>\n",
       "    </tr>\n",
       "    <tr>\n",
       "      <th>max</th>\n",
       "      <td>15335.000000</td>\n",
       "      <td>1.540033e+08</td>\n",
       "      <td>9.887761e+08</td>\n",
       "      <td>30.000000</td>\n",
       "      <td>20.000000</td>\n",
       "      <td>249000.000000</td>\n",
       "      <td>8.500000e+06</td>\n",
       "      <td>0.0</td>\n",
       "      <td>0.0</td>\n",
       "      <td>0.0</td>\n",
       "      <td>0.0</td>\n",
       "      <td>0.0</td>\n",
       "      <td>0.0</td>\n",
       "      <td>0.0</td>\n",
       "      <td>0.0</td>\n",
       "      <td>0.0</td>\n",
       "      <td>1.000000</td>\n",
       "      <td>NaN</td>\n",
       "      <td>NaN</td>\n",
       "    </tr>\n",
       "  </tbody>\n",
       "</table>\n",
       "</div>"
      ],
      "text/plain": [
       "         Unnamed: 0  id_realEstates  phone_realEstate         rooms  \\\n",
       "count  15335.000000    1.533500e+04      1.454100e+04  14982.000000   \n",
       "mean    7668.000000    1.524371e+08      9.143423e+08      3.231611   \n",
       "std     4426.977524    2.277286e+06      7.516036e+06      1.393106   \n",
       "min        1.000000    1.221584e+08      8.762742e+08      1.000000   \n",
       "25%     3834.500000    1.519456e+08      9.113649e+08      2.000000   \n",
       "50%     7668.000000    1.532413e+08      9.121841e+08      3.000000   \n",
       "75%    11501.500000    1.538105e+08      9.148904e+08      4.000000   \n",
       "max    15335.000000    1.540033e+08      9.887761e+08     30.000000   \n",
       "\n",
       "          bathrooms        surface         price  countryId  level1Id  \\\n",
       "count  14990.000000   14085.000000  1.533500e+04    15335.0   15335.0   \n",
       "mean       2.150233     196.916436  4.773036e+05        0.0       0.0   \n",
       "std        1.292079    2182.758313  5.912942e+05        0.0       0.0   \n",
       "min        1.000000      15.000000  0.000000e+00        0.0       0.0   \n",
       "25%        1.000000      80.000000  1.690000e+05        0.0       0.0   \n",
       "50%        2.000000     114.000000  2.800000e+05        0.0       0.0   \n",
       "75%        3.000000     205.000000  5.400000e+05        0.0       0.0   \n",
       "max       20.000000  249000.000000  8.500000e+06        0.0       0.0   \n",
       "\n",
       "       level2Id  level3Id  level4Id  level5Id  level6Id  level7Id  level8Id  \\\n",
       "count   15335.0   15335.0   15335.0   15335.0   15335.0   15335.0   15335.0   \n",
       "mean        0.0       0.0       0.0       0.0       0.0       0.0       0.0   \n",
       "std         0.0       0.0       0.0       0.0       0.0       0.0       0.0   \n",
       "min         0.0       0.0       0.0       0.0       0.0       0.0       0.0   \n",
       "25%         0.0       0.0       0.0       0.0       0.0       0.0       0.0   \n",
       "50%         0.0       0.0       0.0       0.0       0.0       0.0       0.0   \n",
       "75%         0.0       0.0       0.0       0.0       0.0       0.0       0.0   \n",
       "max         0.0       0.0       0.0       0.0       0.0       0.0       0.0   \n",
       "\n",
       "           accuracy  zipCode  customZone  \n",
       "count  15335.000000      0.0         0.0  \n",
       "mean       0.166873      NaN         NaN  \n",
       "std        0.372875      NaN         NaN  \n",
       "min        0.000000      NaN         NaN  \n",
       "25%        0.000000      NaN         NaN  \n",
       "50%        0.000000      NaN         NaN  \n",
       "75%        0.000000      NaN         NaN  \n",
       "max        1.000000      NaN         NaN  "
      ]
     },
     "execution_count": 19,
     "metadata": {},
     "output_type": "execute_result"
    }
   ],
   "source": [
    "# Import pandas and numpy libraries to deal with dataframe and arrays\n",
    "import pandas as pd\n",
    "import numpy as np\n",
    "import matplotlib.pyplot as plt\n",
    "from ipyleaflet import Map, basemaps, Marker\n",
    "\n",
    "#Usamos la función pandas.read_csv() para cargar nuestro archivo .csv y almacenarlo en una variable tipo dataframe, \n",
    "# la cual llamaremos \"df_real_estate\".\n",
    "\n",
    "\n",
    "df_real_estate= pd.read_csv(\"/workspace/pruebaelisa/assets/real_estate.csv\", sep=\";\")\n",
    "print(df_real_estate)\n",
    " \n",
    "#Para tener info del tipo de dato df.info()\n",
    "\n",
    "df_real_estate.info ()\n",
    "\n",
    "# Limites para saber donde corren los datos\n",
    "\n",
    "df_real_estate.describe()\n",
    "\n",
    "#O En la pestana data viewer se ve ta tabla de datos del dataframe df_data tambien sin necesidad de ejecutar el print"
   ]
  },
  {
   "cell_type": "markdown",
   "id": "40631cd6",
   "metadata": {},
   "source": [
    "#### What is the most expensive home in the dataset? (★☆☆)"
   ]
  },
  {
   "cell_type": "code",
   "execution_count": null,
   "id": "8a758bcf",
   "metadata": {},
   "outputs": [
    {
     "name": "stdout",
     "output_type": "stream",
     "text": [
      "The id of the most expensive house is 13110 y su precio es 8500000\n"
     ]
    }
   ],
   "source": [
    "mascaro = df_real_estate[\"price\"].idxmax() # Indica el indice mas barato\n",
    "maxClm = df_real_estate['price'].max() #Indica el monto\n",
    "print(f\"The id of the most expensive house is {mascaro} y su precio es {maxClm}\")\n"
   ]
  },
  {
   "cell_type": "markdown",
   "id": "0a708990",
   "metadata": {},
   "source": [
    "#### What is cheapest home in the dataset? (★☆☆)"
   ]
  },
  {
   "cell_type": "code",
   "execution_count": 29,
   "id": "477e01f4",
   "metadata": {},
   "outputs": [
    {
     "name": "stdout",
     "output_type": "stream",
     "text": [
      "The id of the most expensive house is 7491 y el precio es 600\n"
     ]
    }
   ],
   "source": [
    "df2=df_real_estate[df_real_estate[\"price\"]>0 & df_real_estate[\"price\"].notnull()]\n",
    "masbarato = df2[\"price\"].idxmin() #Indica el indice\n",
    "minClm = df2[\"price\"].min() #Indica el monton\n",
    "print(f\"The id of the most expensive house is {masbarato} y el precio es {minClm}\")\n"
   ]
  },
  {
   "cell_type": "markdown",
   "id": "0b16cd77",
   "metadata": {},
   "source": [
    "#### What is the biggest and the smallest home in the dataset? (★☆☆)"
   ]
  },
  {
   "cell_type": "code",
   "execution_count": null,
   "id": "4d9b5975",
   "metadata": {},
   "outputs": [
    {
     "name": "stdout",
     "output_type": "stream",
     "text": [
      "El id de la casa mas barata es 498 y la superficie es 15.0\n",
      "El id de la casa mas grande es 6794 y la superficie  es 249000.0\n"
     ]
    }
   ],
   "source": [
    "colmsurf =df_real_estate[\"surface\"]\n",
    "min_index = colmsurf.idxmin()\n",
    "mincolum = colmsurf.min()\n",
    "max_index = colmsurf.idxmax()\n",
    "maxcolum = colmsurf.max()\n",
    "print(f\"El id de la casa mas barata es {min_index} y la superficie es {mincolum}\")\n",
    "print(f\"El id de la casa mas grande es {max_index} y la superficie  es {maxcolum}\")"
   ]
  },
  {
   "cell_type": "markdown",
   "id": "782d4c77",
   "metadata": {},
   "source": [
    "#### How many populations (level5) the dataset contains? (★☆☆)"
   ]
  },
  {
   "cell_type": "code",
   "execution_count": null,
   "id": "5dbe1a08",
   "metadata": {},
   "outputs": [
    {
     "name": "stdout",
     "output_type": "stream",
     "text": [
      "La poblacion contiene 168\n"
     ]
    }
   ],
   "source": [
    "population = df_real_estate[\"level5\"].unique().size\n",
    "print (f\"La poblacion contiene {population}\")"
   ]
  },
  {
   "cell_type": "markdown",
   "id": "48d48f01",
   "metadata": {},
   "source": [
    "#### Does the dataset contain NAs? (★☆☆)\n"
   ]
  },
  {
   "cell_type": "code",
   "execution_count": null,
   "id": "3ed233e7",
   "metadata": {},
   "outputs": [
    {
     "data": {
      "text/plain": [
       "Unnamed: 0              0\n",
       "id_realEstates          0\n",
       "isNew                   0\n",
       "realEstate_name        10\n",
       "phone_realEstate      794\n",
       "url_inmueble            0\n",
       "rooms                 353\n",
       "bathrooms             345\n",
       "surface              1250\n",
       "price                   0\n",
       "date                    0\n",
       "description           142\n",
       "address                 0\n",
       "country                 0\n",
       "level1                  0\n",
       "level2                  0\n",
       "level3                  0\n",
       "level4               6643\n",
       "level5                  0\n",
       "level6              14627\n",
       "level7               2277\n",
       "level8               8579\n",
       "upperLevel              0\n",
       "countryId               0\n",
       "level1Id                0\n",
       "level2Id                0\n",
       "level3Id                0\n",
       "level4Id                0\n",
       "level5Id                0\n",
       "level6Id                0\n",
       "level7Id                0\n",
       "level8Id                0\n",
       "accuracy                0\n",
       "latitude                0\n",
       "longitude               0\n",
       "zipCode             15335\n",
       "customZone          15335\n",
       "dtype: int64"
      ]
     },
     "execution_count": 213,
     "metadata": {},
     "output_type": "execute_result"
    }
   ],
   "source": [
    "#Respuesta es SI hay al menos un true\n",
    "df_real_estate.isna()\n",
    "\n",
    "# Cuantos null hay\n",
    "df_real_estate.isnull().sum()\n",
    "\n",
    "\n"
   ]
  },
  {
   "cell_type": "markdown",
   "id": "4fa39382",
   "metadata": {},
   "source": [
    "#### Delete the NAs of the dataset, if applicable (★★☆)"
   ]
  },
  {
   "cell_type": "code",
   "execution_count": null,
   "id": "c97757ec",
   "metadata": {},
   "outputs": [
    {
     "name": "stdout",
     "output_type": "stream",
     "text": [
      "Empty DataFrame\n",
      "Columns: [Unnamed: 0, id_realEstates, isNew, realEstate_name, phone_realEstate, url_inmueble, rooms, bathrooms, surface, price, date, description, address, country, level1, level2, level3, level4, level5, level6, level7, level8, upperLevel, countryId, level1Id, level2Id, level3Id, level4Id, level5Id, level6Id, level7Id, level8Id, accuracy, latitude, longitude, zipCode, customZone]\n",
      "Index: []\n",
      "\n",
      "[0 rows x 37 columns]\n"
     ]
    },
    {
     "data": {
      "text/plain": [
       "Unnamed: 0          0.0\n",
       "id_realEstates      0.0\n",
       "isNew               0.0\n",
       "realEstate_name     0.0\n",
       "phone_realEstate    0.0\n",
       "url_inmueble        0.0\n",
       "rooms               0.0\n",
       "bathrooms           0.0\n",
       "surface             0.0\n",
       "price               0.0\n",
       "date                0.0\n",
       "description         0.0\n",
       "address             0.0\n",
       "country             0.0\n",
       "level1              0.0\n",
       "level2              0.0\n",
       "level3              0.0\n",
       "level4              0.0\n",
       "level5              0.0\n",
       "level6              0.0\n",
       "level7              0.0\n",
       "level8              0.0\n",
       "upperLevel          0.0\n",
       "countryId           0.0\n",
       "level1Id            0.0\n",
       "level2Id            0.0\n",
       "level3Id            0.0\n",
       "level4Id            0.0\n",
       "level5Id            0.0\n",
       "level6Id            0.0\n",
       "level7Id            0.0\n",
       "level8Id            0.0\n",
       "accuracy            0.0\n",
       "latitude            0.0\n",
       "longitude           0.0\n",
       "zipCode             0.0\n",
       "customZone          0.0\n",
       "dtype: float64"
      ]
     },
     "execution_count": 214,
     "metadata": {},
     "output_type": "execute_result"
    }
   ],
   "source": [
    "\n",
    "# Como elimina todos los NaN cree un nuevo data frame para que quede almacenado ahi y continuo con el original\n",
    "df_real_estate_borrado =df_real_estate.dropna()\n",
    "print(df_real_estate_borrado)\n",
    "#Verificar que queda en cero\n",
    "df_real_estate_borrado.isnull().sum()\n",
    "\n",
    "\n",
    "\n",
    "\n"
   ]
  },
  {
   "cell_type": "markdown",
   "id": "0e5f76de",
   "metadata": {},
   "source": [
    "#### What is the mean of prices in the population (level5) of \"Arroyomolinos (Madrid)\"? (★★☆)"
   ]
  },
  {
   "cell_type": "code",
   "execution_count": null,
   "id": "327f7adb",
   "metadata": {},
   "outputs": [
    {
     "name": "stdout",
     "output_type": "stream",
     "text": [
      "294541.59854014596\n"
     ]
    }
   ],
   "source": [
    "\n",
    "#Permite filtar para la columna Level 5 y que contenga Arroymolinos(Madrid) \n",
    "#Les respuesta cual es el menor precio para la level 5 que es de Arroyomolinos de Madrid\n",
    "filtrado= df_real_estate[df_real_estate['level5'] == \"Arroyomolinos (Madrid)\"]\n",
    "print(filtrado['price'].mean())\n",
    "\n",
    "\n",
    "\n"
   ]
  },
  {
   "cell_type": "markdown",
   "id": "7e921d1b",
   "metadata": {},
   "source": []
  },
  {
   "cell_type": "markdown",
   "id": "89b548e3",
   "metadata": {},
   "source": [
    "#### Plot the histogram of prices for the population (level5) of \"Arroyomolinos (Madrid)\" and explain what you observe (★★☆)"
   ]
  },
  {
   "cell_type": "code",
   "execution_count": null,
   "id": "2ba51bf7",
   "metadata": {},
   "outputs": [
    {
     "data": {
      "image/png": "[encoded data removed]",
      "text/plain": [
       "<Figure size 432x288 with 1 Axes>"
      ]
     },
     "metadata": {
      "needs_background": "light"
     },
     "output_type": "display_data"
    },
    {
     "name": "stdout",
     "output_type": "stream",
     "text": [
      "Se observa que se comporta como una campana de Gauss donde la media esta en 3000 y los desvios standar estan entre  2000 y 4000\n"
     ]
    }
   ],
   "source": [
    "filtro = df_real_estate[df_real_estate['level5'] == \"Arroyomolinos (Madrid)\"]\n",
    "plt.hist(filtro['price'],color='red')\n",
    "#Estetica del histograma\n",
    "plt.title('Histrograma price/Population level 5')\n",
    "plt.xlabel('Price')\n",
    "plt.ylabel('Population level5')\n",
    "plt.show()\n",
    "print(\"Se observa que se comporta como una campana de Gauss donde la media esta en 3000 y los desvios standar estan entre  2000 y 4000\")\n",
    "#Informacion de la campana de Gauss https://jesusgarciaj.com/2010/01/22/la-curva-de-distribucion-normal/\n",
    "\n",
    "\n"
   ]
  },
  {
   "cell_type": "markdown",
   "id": "c86dc493",
   "metadata": {},
   "source": [
    "#### Now let's work with the \"south belt\" of madrid. Make a subsetting that contains the following populations (level5): \"Fuenlabrada\",\"Leganés\",\"Getafe\",\"Alcorcón\" (★★☆) "
   ]
  },
  {
   "cell_type": "code",
   "execution_count": null,
   "id": "5280d0cb",
   "metadata": {},
   "outputs": [
    {
     "name": "stdout",
     "output_type": "stream",
     "text": [
      "       Unnamed: 0  id_realEstates  isNew  \\\n",
      "1               2       153867863  False   \n",
      "3               4       152776331  False   \n",
      "85             86       153152077  False   \n",
      "94             95       153995577  False   \n",
      "109           110       153586414  False   \n",
      "...           ...             ...    ...   \n",
      "15275       15276       153903887  False   \n",
      "15291       15292       151697757  False   \n",
      "15305       15306       153902389  False   \n",
      "15322       15323       153871864  False   \n",
      "15325       15326       153901467  False   \n",
      "\n",
      "                                 realEstate_name  phone_realEstate  \\\n",
      "1              tecnocasa fuenlabrada ferrocarril       916358736.0   \n",
      "3              tecnocasa fuenlabrada ferrocarril       916358736.0   \n",
      "85                       sinergical inmobiliaria               NaN   \n",
      "94                               viviendas365com       911226014.0   \n",
      "109              area uno asesores inmobiliarios       912664081.0   \n",
      "...                                          ...               ...   \n",
      "15275  aliseda servicios de gestion inmobiliaria       911368198.0   \n",
      "15291                                    unipiso       912788631.0   \n",
      "15305                             jadein ferrero       914871639.0   \n",
      "15322                          gestion comercial       911220662.0   \n",
      "15325                              montehogar 68       911790675.0   \n",
      "\n",
      "                                            url_inmueble  rooms  bathrooms  \\\n",
      "1      https://www.fotocasa.es/es/comprar/vivienda/ma...    3.0        1.0   \n",
      "3      https://www.fotocasa.es/es/comprar/vivienda/ma...    3.0        1.0   \n",
      "85     https://www.fotocasa.es/es/comprar/vivienda/le...    1.0        1.0   \n",
      "94     https://www.fotocasa.es/es/comprar/vivienda/le...    3.0        2.0   \n",
      "109    https://www.fotocasa.es/es/comprar/vivienda/ma...    3.0        3.0   \n",
      "...                                                  ...    ...        ...   \n",
      "15275  https://www.fotocasa.es/es/comprar/vivienda/al...    3.0        1.0   \n",
      "15291  https://www.fotocasa.es/es/comprar/vivienda/al...    3.0        2.0   \n",
      "15305  https://www.fotocasa.es/es/comprar/vivienda/ma...    3.0        2.0   \n",
      "15322  https://www.fotocasa.es/es/comprar/vivienda/ma...    3.0        1.0   \n",
      "15325  https://www.fotocasa.es/es/comprar/vivienda/ma...    2.0        2.0   \n",
      "\n",
      "       surface   price  ... level4Id level5Id level6Id level7Id level8Id  \\\n",
      "1          NaN   89000  ...        0        0        0        0        0   \n",
      "3         86.0   89000  ...        0        0        0        0        0   \n",
      "85        50.0  107000  ...        0        0        0        0        0   \n",
      "94       120.0  320000  ...        0        0        0        0        0   \n",
      "109      142.0  425000  ...        0        0        0        0        0   \n",
      "...        ...     ...  ...      ...      ...      ...      ...      ...   \n",
      "15275     78.0  138000  ...        0        0        0        0        0   \n",
      "15291    110.0  279000  ...        0        0        0        0        0   \n",
      "15305     85.0  170000  ...        0        0        0        0        0   \n",
      "15322     91.0  112000  ...        0        0        0        0        0   \n",
      "15325     99.0  215000  ...        0        0        0        0        0   \n",
      "\n",
      "      accuracy          latitude          longitude zipCode customZone  \n",
      "1            1          40,28674           -3,79351     NaN        NaN  \n",
      "3            0  40,2853785786438  -3,79508142135624     NaN        NaN  \n",
      "85           1          40,35059           -3,82693     NaN        NaN  \n",
      "94           0          40,31933           -3,77574     NaN        NaN  \n",
      "109          0        40,3313411         -3,8313868     NaN        NaN  \n",
      "...        ...               ...                ...     ...        ...  \n",
      "15275        1          40,31381           -3,83733     NaN        NaN  \n",
      "15291        0        40,3259051           -3,76318     NaN        NaN  \n",
      "15305        0        40,2882193         -3,8098617     NaN        NaN  \n",
      "15322        0          40,28282           -3,78892     NaN        NaN  \n",
      "15325        1          40,28062           -3,79869     NaN        NaN  \n",
      "\n",
      "[907 rows x 37 columns]\n"
     ]
    }
   ],
   "source": [
    "filter = df_real_estate[df_real_estate['level5'].isin(\n",
    "    (\"Fuenlabrada\", \"Leganés\", \"Getafe\", \"Alcorcón\"))]\n",
    "print(filter)"
   ]
  },
  {
   "cell_type": "markdown",
   "id": "090a6a3e",
   "metadata": {},
   "source": [
    "#### Make a bar plot of the median of prices (★★★) "
   ]
  },
  {
   "cell_type": "code",
   "execution_count": null,
   "id": "68aec11c",
   "metadata": {},
   "outputs": [
    {
     "data": {
      "image/png": "[encoded data removed]",
      "text/plain": [
       "<Figure size 432x288 with 1 Axes>"
      ]
     },
     "metadata": {
      "needs_background": "light"
     },
     "output_type": "display_data"
    }
   ],
   "source": [
    "\n",
    "filtero_data = df_real_estate[df_real_estate['level5'].isin(\n",
    "    ('Fuenlabrada', 'Leganés', 'Getafe', 'Alcorcón'))]\n",
    "filtero_data = filtero_data[['level5', 'price']]\n",
    "grouped_filtered_data_frame = filtero_data.groupby('level5').median()\n",
    "keys = grouped_filtered_data_frame.index.values.tolist()\n",
    "values = grouped_filtered_data_frame['price'].tolist()\n",
    "plt.bar(keys, values, color='green')\n",
    "#Estetica\n",
    "plt.title('Bar Plot Price/ Population')\n",
    "plt.xlabel('Population')\n",
    "plt.ylabel('price')\n",
    "plt.show()"
   ]
  },
  {
   "cell_type": "markdown",
   "id": "18f67373",
   "metadata": {},
   "source": [
    "#### Calculate the sample mean and variance of the variables: price, rooms, surface area and bathrooms (★★★) "
   ]
  },
  {
   "cell_type": "code",
   "execution_count": null,
   "id": "8d068061",
   "metadata": {},
   "outputs": [
    {
     "name": "stdout",
     "output_type": "stream",
     "text": [
      "La mean de la variable es\n",
      "                     price     rooms     surface  bathrooms\n",
      "level5                                                     \n",
      "Alcorcón     230071.052632  2.914894  105.913295   1.623656\n",
      "Fuenlabrada  177198.021459  3.025974  103.624365   1.445415\n",
      "Getafe       265040.500000  3.151724  126.896266   1.865052\n",
      "Leganés      208682.010309  2.906736  105.852273   1.518135\n",
      "\n",
      "\n",
      "La varianza de la variable es\n",
      "                    price     rooms      surface  bathrooms\n",
      "level5                                                     \n",
      "Alcorcón     1.594783e+10  0.933895  4244.323834   0.592735\n",
      "Fuenlabrada  4.701021e+09  0.355844  2264.643893   0.353367\n",
      "Getafe       2.098267e+10  0.772748  5828.110028   0.658809\n",
      "Leganés      1.191394e+10  0.824590  3987.475195   0.553055\n"
     ]
    }
   ],
   "source": [
    "filtero_data = df_real_estate[df_real_estate['level5'].isin(\n",
    "    ('Fuenlabrada', 'Leganés', 'Getafe', 'Alcorcón'))]\n",
    "filtered = filtero_data [\n",
    "    ['level5', 'price', 'rooms', 'surface', 'bathrooms']\n",
    "]\n",
    "grouped_filtered_data_frame = filtered.groupby('level5')\n",
    "print(\"La mean de la variable es\")\n",
    "print(grouped_filtered_data_frame.mean())\n",
    "print()\n",
    "print()\n",
    "print(\"La varianza de la variable es\")\n",
    "print(grouped_filtered_data_frame.var())\n"
   ]
  },
  {
   "cell_type": "markdown",
   "id": "95cfde61",
   "metadata": {},
   "source": [
    "#### What is the most expensive home of each population? (★★☆) "
   ]
  },
  {
   "cell_type": "code",
   "execution_count": null,
   "id": "1c29f78c",
   "metadata": {},
   "outputs": [
    {
     "name": "stdout",
     "output_type": "stream",
     "text": [
      "\n",
      "La casa mas cara es\n",
      "             price\n",
      "level5            \n",
      "Alcorcón      5585\n",
      "Fuenlabrada  11561\n",
      "Getafe        2881\n",
      "Leganés      10412\n",
      "\n",
      "Los id de las casas mas caras son Alarcon id=5585, Funelabrada id=11561, Getafe id=2881 y Leganes id=10412\n",
      "\n",
      "\n",
      "La varianza de la variable es\n",
      "                    price\n",
      "level5                   \n",
      "Alcorcón     1.594783e+10\n",
      "Fuenlabrada  4.701021e+09\n",
      "Getafe       2.098267e+10\n",
      "Leganés      1.191394e+10\n"
     ]
    }
   ],
   "source": [
    "filtered = df_real_estate[df_real_estate['level5'].isin(\n",
    "    ('Fuenlabrada', 'Leganés', 'Getafe', 'Alcorcón'))]\n",
    "filtered= filtered[\n",
    "    ['level5', 'price']\n",
    "]\n",
    "grouped_filtered_data_frame = filtered.groupby('level5')\n",
    "\n",
    "maximo_index = grouped_filtered_data_frame.idxmax()\n",
    "print()\n",
    "print(f\"La casa mas cara es\")\n",
    "print(f\"{maximo_index}\")\n",
    "print ()\n",
    "print(\"Los id de las casas mas caras son Alarcon id=5585, Funelabrada id=11561, Getafe id=2881 y Leganes id=10412\")\n",
    "\n",
    "\n",
    "print()\n",
    "print()\n",
    "print(\"La varianza de la variable es\")\n",
    "print(grouped_filtered_data_frame.var())\n"
   ]
  },
  {
   "cell_type": "markdown",
   "id": "ea67579b",
   "metadata": {},
   "source": [
    "#### Normalize the variable of prices for each population and plot the 4 histograms in the same plot (★★★) "
   ]
  },
  {
   "cell_type": "code",
   "execution_count": null,
   "id": "12203b69",
   "metadata": {},
   "outputs": [
    {
     "name": "stdout",
     "output_type": "stream",
     "text": [
      "Analizando el nombre de la poblacion Fuenlabrada\n",
      "1      0.000000\n",
      "3      0.000000\n",
      "161    0.375312\n",
      "214    0.236908\n",
      "Name: price, dtype: float64\n",
      "Analizando el nombre de la poblacion Leganés\n",
      "94     0.440678\n",
      "189    0.000000\n",
      "193    0.135593\n",
      "272    0.335593\n",
      "Name: price, dtype: float64\n",
      "Analizando el nombre de la poblacion Getafe\n",
      "169    0.276190\n",
      "232    0.130857\n",
      "233    0.129048\n",
      "269    0.095143\n",
      "Name: price, dtype: float64\n",
      "Analizando el nombre de la poblacion Alcorcón\n",
      "85     0.018055\n",
      "109    0.388468\n",
      "765    0.182295\n",
      "816    0.241701\n",
      "Name: price, dtype: float64\n"
     ]
    },
    {
     "data": {
      "image/png": "[encoded data removed]",
      "text/plain": [
       "<Figure size 720x720 with 4 Axes>"
      ]
     },
     "metadata": {
      "needs_background": "light"
     },
     "output_type": "display_data"
    }
   ],
   "source": [
    "#forma 1 de normalizar\n",
    "\n",
    "plt.figure (figsize =(10,10))\n",
    "id_figura=1\n",
    "nombre_poblacion = df_real_estate[df_real_estate['level5'].isin(('Fuenlabrada', 'Leganés', 'Getafe', 'Alcorcón'))]\n",
    "#Se aplica un for para recorre la lista e imprimir la grafica para cada una de ellas\n",
    "for nombre_poblacion in ['Fuenlabrada', 'Leganés', 'Getafe','Alcorcón']:\n",
    "    print('Analizando el nombre de la poblacion', nombre_poblacion)\n",
    "    level5_fuen = df_real_estate['price'][df_real_estate['level5']==nombre_poblacion]\n",
    "    max= level5_fuen.max()\n",
    "    min= level5_fuen.min()\n",
    "    price_normalize = level5_fuen - min\n",
    "    price_normalize = price_normalize / (max-min)\n",
    "    print (price_normalize.head(4))\n",
    "\n",
    "    plt.subplot(2,2,id_figura)\n",
    "    plt.hist(price_normalize, color='green')\n",
    "    id_figura =id_figura +1\n",
    "    plt.title (nombre_poblacion)"
   ]
  },
  {
   "cell_type": "code",
   "execution_count": null,
   "id": "385ad99c",
   "metadata": {},
   "outputs": [
    {
     "data": {
      "image/png": "[encoded data removed]",
      "text/plain": [
       "<Figure size 432x288 with 4 Axes>"
      ]
     },
     "metadata": {
      "needs_background": "light"
     },
     "output_type": "display_data"
    }
   ],
   "source": [
    "\n",
    "# FormA 2 de Normalizar\n",
    "# Se define una funcion que se llama normalizacion para luego se aplicada\n",
    "def normalize_price(df_real_estate: pd.DataFrame) -> pd.DataFrame:\n",
    "    column = 'price'\n",
    "    new_data_frame = df_real_estate.copy() \n",
    "    # Se aplica la funcion de normalizacion y = (x - min) / (max - min)\n",
    "    new_data_frame[column] = (df_real_estate[column] - df_real_estate[column].min()) / \\\n",
    "        (df_real_estate[column].max() - df_real_estate[column].min())\n",
    "    return new_data_frame\n",
    "\n",
    "#Se filtra el data set con los filtros especificos\n",
    "populations_to_filter = ('Fuenlabrada', 'Leganés', 'Getafe', 'Alcorcón')\n",
    "filtered_data_frame = df_real_estate[df_real_estate['level5'].isin(populations_to_filter)]\n",
    "filtered_data_frame = filtered_data_frame[['level5', 'price']]\n",
    "population_specific_data_frames = [\n",
    "    filtered_data_frame[filtered_data_frame['level5'] == population]\n",
    "    for population in populations_to_filter\n",
    "]\n",
    "population_specific_data_frames = [\n",
    "    normalize_price(df_real_estate)\n",
    "    for df_real_estate in population_specific_data_frames\n",
    "]\n",
    "\n",
    "for index, population_data_frame in enumerate(population_specific_data_frames):\n",
    "    plt.subplot(2, 2, index + 1)\n",
    "    plt.xlabel('Normalized price')\n",
    "    plt.ylabel('Frequency')\n",
    "    plt.hist(population_data_frame, alpha=0.5,label=population_data_frame['level5'].iloc[0])\n",
    "\n",
    "plt.show()"
   ]
  },
  {
   "cell_type": "markdown",
   "id": "2ec1bd5c",
   "metadata": {},
   "source": [
    "#### Make a plot of the coordinates (lat and long) of the south belt of Madrid by color of each population (★★★★) \n",
    "This is a extremely hard exercise and we highly recommend to do it at the end of everything"
   ]
  },
  {
   "cell_type": "code",
   "execution_count": null,
   "id": "312aac99",
   "metadata": {},
   "outputs": [
    {
     "data": {
      "application/vnd.jupyter.widget-view+json": {
       "model_id": "2e5bf6f591004268b132702ea8c50ae2",
       "version_major": 2,
       "version_minor": 0
      },
      "text/plain": [
       "Map(center=[60, -2.2], controls=(ZoomControl(options=['position', 'zoom_in_text', 'zoom_in_title', 'zoom_out_t…"
      ]
     },
     "metadata": {},
     "output_type": "display_data"
    }
   ],
   "source": [
    "# jupyter nbextension enable --py --sys-prefix ipyleaflet\n",
    "\n",
    "# Map centred on (60 degrees latitude et -2.2 degrees longitude)\n",
    "# Latitude, longitude\n",
    "map = Map(center = (60, -2.2), zoom = 2, min_zoom = 1, max_zoom = 20, \n",
    "    basemap=basemaps.Stamen.Terrain)\n",
    "\n",
    "filtered_data_frame = df_real_estate[['level5', 'latitude', 'longitude']]\n",
    "populations_to_filter = ('Fuenlabrada', 'Leganés', 'Getafe', 'Alcorcón')\n",
    "colors = ('red', 'blue', 'yellow', 'red')\n",
    "population_data_frames_dict = {\n",
    "    population: filtered_data_frame[filtered_data_frame['level5'] == population].dropna()\n",
    "    for population in populations_to_filter\n",
    "}\n",
    "\n",
    "for population in populations_to_filter:\n",
    "    population_data_frame = population_data_frames_dict[population]\n",
    "    for index in range(len(population_data_frame)):\n",
    "        location = (population_data_frame.iloc[index]['latitude'],\n",
    "            population_data_frame.iloc[index]['longitude'])\n",
    "        marker = Marker(location=location, draggable=False,\n",
    "            color=colors[populations_to_filter.index(population)])\n",
    "        map.add_layer(marker)\n",
    "\n",
    "map"
   ]
  },
  {
   "cell_type": "code",
   "execution_count": null,
   "id": "f7931ec0",
   "metadata": {},
   "outputs": [],
   "source": [
    "## HERE: plot the coordinates of the estates\n",
    "\n",
    "## PUT HERE YOUR CODE:\n"
   ]
  },
  {
   "cell_type": "markdown",
   "id": "b22874b7",
   "metadata": {},
   "source": [
    "#### What can you say about the price per square meter between the towns of Getafe and Alcorcón?"
   ]
  },
  {
   "cell_type": "code",
   "execution_count": null,
   "id": "e0ef506b",
   "metadata": {},
   "outputs": [
    {
     "name": "stdout",
     "output_type": "stream",
     "text": [
      "{'Getafe': {'price_per_square_meter': {'average': 2066.314949251463, 'median': 1973.3333333333333}}, 'Alcorcón': {'price_per_square_meter': {'average': 2239.302480199618, 'median': 2207.7922077922076}}}\n",
      "La Propiedad en Getafe esta promedialmente mas barata que\n",
      "los encontrados en Alcorcón por metro cuadrado\n"
     ]
    }
   ],
   "source": [
    "def get_price_per_square_meter_info(df_real_estate: pd.DataFrame):\n",
    "    return {\n",
    "        'price_per_square_meter': {\n",
    "                'average': df_real_estate['price_per_square_meter'].mean(),\n",
    "                'median': df_real_estate['price_per_square_meter'].median(),\n",
    "        }\n",
    "    }\n",
    "\n",
    "filtered_data_frame = df_real_estate[['level5', 'price', 'surface']]\n",
    "populations_to_filter = ('Getafe', 'Alcorcón')\n",
    "population_data_frames_dict = {\n",
    "    population: filtered_data_frame[filtered_data_frame['level5'] == population].dropna()\n",
    "    for population in populations_to_filter\n",
    "}\n",
    "price_per_square_meter_info_dict = {}\n",
    "for population in population_data_frames_dict:\n",
    "    population_data_frames_dict[population]['price_per_square_meter'] = \\\n",
    "        filtered_data_frame['price'] / filtered_data_frame['surface']\n",
    "    price_per_square_meter_info = get_price_per_square_meter_info(\n",
    "        df_real_estate=population_data_frames_dict[population])\n",
    "    price_per_square_meter_info_dict[population] = price_per_square_meter_info\n",
    "\n",
    "print(price_per_square_meter_info_dict)\n",
    "\n",
    "\n",
    "print(\"La Propiedad en Getafe esta promedialmente mas barata que\")\n",
    "print(\"los encontrados en Alcorcón por metro cuadrado\")\n"
   ]
  },
  {
   "cell_type": "markdown",
   "id": "a4376b3f",
   "metadata": {},
   "source": [
    "#### Reload the data, is the average of \"Valdemorillo\" and \"Galapagar\" prices the same?"
   ]
  },
  {
   "cell_type": "code",
   "execution_count": null,
   "id": "37dbaf65",
   "metadata": {},
   "outputs": [
    {
     "name": "stdout",
     "output_type": "stream",
     "text": [
      "\n",
      "Valdemorillo tiene un promedio de precio de  363860.2931034483\n",
      "Galapagar tiene un promedio de precio de  360063.20238095237\n",
      "No el promedio no es el mismo\n"
     ]
    }
   ],
   "source": [
    "filtered_data_frame = df_real_estate[['level5', 'price']]\n",
    "populations_to_filter = ('Valdemorillo', 'Galapagar')\n",
    "population_data_frames_dict = {\n",
    "    population: filtered_data_frame[filtered_data_frame['level5'] == population].dropna()\n",
    "    for population in populations_to_filter\n",
    "}\n",
    "valdemorillo_average_price = population_data_frames_dict[populations_to_filter[0]]['price'].mean()\n",
    "galapagar_average_price = population_data_frames_dict[populations_to_filter[1]]['price'].mean()\n",
    "print()\n",
    "print(f\"{populations_to_filter[0]} tiene un promedio de precio de  {valdemorillo_average_price}\")\n",
    "print(f\"{populations_to_filter[1]} tiene un promedio de precio de  {galapagar_average_price}\")\n",
    "if valdemorillo_average_price == galapagar_average_price:\n",
    "    print(\"Si el promedio del precio es el mismo\")\n",
    "else:\n",
    "    print(\"No el promedio no es el mismo\")"
   ]
  },
  {
   "cell_type": "markdown",
   "id": "b6af45ec",
   "metadata": {},
   "source": [
    "#### What happens if we do the same analysis for price/m2 (★★☆) "
   ]
  },
  {
   "cell_type": "code",
   "execution_count": null,
   "id": "8231d73e",
   "metadata": {},
   "outputs": [
    {
     "name": "stdout",
     "output_type": "stream",
     "text": [
      "\n",
      "Valdemorillo tiene un precio promedio por metro cuadrado de 1317.9502109024984\n",
      "Galapagar tiene un precio promedio por metro cuadrado de 1606.3240303094024\n",
      "Su precio medio por metro cuadrado NO es el mismo\n",
      "\n"
     ]
    }
   ],
   "source": [
    "filtered_data_frame = df_real_estate[['level5', 'price', 'surface']]\n",
    "populations_to_filter = ('Valdemorillo', 'Galapagar')\n",
    "population_data_frames_dict = {\n",
    "    population: filtered_data_frame[filtered_data_frame['level5'] == population].dropna()\n",
    "    for population in populations_to_filter\n",
    "}\n",
    "for population in population_data_frames_dict:\n",
    "    population_data_frames_dict[population]['price_per_square_meter'] = \\\n",
    "        filtered_data_frame['price'] / filtered_data_frame['surface']\n",
    "\n",
    "valdemorillo_average_price_per_square_meter = \\\n",
    "    population_data_frames_dict[populations_to_filter[0]]['price_per_square_meter'].mean()\n",
    "galapagar_average_price_per_square_meter = \\\n",
    "    population_data_frames_dict[populations_to_filter[1]]['price_per_square_meter'].mean()\n",
    "\n",
    "print()\n",
    "to_print = f\"{populations_to_filter[0]} tiene un precio promedio por metro cuadrado de \"\n",
    "to_print += f\"{valdemorillo_average_price_per_square_meter}\"\n",
    "print(to_print)\n",
    "to_print = f\"{populations_to_filter[1]} tiene un precio promedio por metro cuadrado de \"\n",
    "to_print += f\"{galapagar_average_price_per_square_meter}\"\n",
    "print(to_print)\n",
    "if valdemorillo_average_price_per_square_meter == galapagar_average_price_per_square_meter:\n",
    "    print(\"Sí, ambos tienen el mismo precio medio por metro cuadrado.\")\n",
    "else:\n",
    "    print(\"Su precio medio por metro cuadrado NO es el mismo\")\n",
    "print()"
   ]
  },
  {
   "cell_type": "markdown",
   "id": "2d40e202",
   "metadata": {},
   "source": [
    "#### Could you say there is a relation between surface and price? (★★☆) \n",
    "Hint: make a scatter plot."
   ]
  },
  {
   "cell_type": "code",
   "execution_count": null,
   "id": "405462e1",
   "metadata": {},
   "outputs": [
    {
     "data": {
      "image/png": "[encoded data removed]",
      "text/plain": [
       "<Figure size 864x288 with 3 Axes>"
      ]
     },
     "metadata": {
      "needs_background": "light"
     },
     "output_type": "display_data"
    },
    {
     "name": "stdout",
     "output_type": "stream",
     "text": [
      "la comparacion de la superfice y el precio entre Valdemorillo y Galapagar parace  que al inicio se semejan uniendose los puntos caso cmo una linea\n",
      "Luego se disipan y Valdemorillo crece mas rapido de form exponencial, teniendo incluso algun valor atipico \n"
     ]
    }
   ],
   "source": [
    "filtered_data_frame = df_real_estate[['level5', 'price', 'surface']]\n",
    "populations_to_filter = ('Valdemorillo', 'Galapagar')\n",
    "population_data_frames_dict = {\n",
    "    population: filtered_data_frame[filtered_data_frame['level5'] == population].dropna()\n",
    "    for population in populations_to_filter\n",
    "}\n",
    "\n",
    "plt.figure(figsize=(12, 4))\n",
    "plt.subplot(1, 3, 1)\n",
    "plt.ylabel('Surface')\n",
    "plt.scatter(population_data_frames_dict[populations_to_filter[0]]['price'],\n",
    "    population_data_frames_dict[populations_to_filter[0]]['surface'],\n",
    "    alpha=0.5, label=populations_to_filter[0], color='violet')\n",
    "plt.legend(loc='upper left')\n",
    "plt.subplot(1, 3, 2)\n",
    "plt.scatter(population_data_frames_dict[populations_to_filter[1]]['price'],\n",
    "    population_data_frames_dict[populations_to_filter[1]]['surface'],\n",
    "    alpha=0.5, label=populations_to_filter[1],color='y')\n",
    "plt.legend(loc='upper left')\n",
    "plt.xlabel('Price')\n",
    "plt.subplot(1, 3, 3)\n",
    "plt.scatter(population_data_frames_dict[populations_to_filter[0]]['price'],\n",
    "    population_data_frames_dict[populations_to_filter[0]]['surface'], alpha=0.5,\n",
    "    label=populations_to_filter[0],color='violet')\n",
    "plt.scatter(population_data_frames_dict[populations_to_filter[1]]['price'],\n",
    "    population_data_frames_dict[populations_to_filter[1]]['surface'], alpha=0.5,\n",
    "    label=populations_to_filter[1], color='y')\n",
    "plt.legend(loc='upper left')\n",
    "plt.show()\n",
    "\n",
    "print(\"la comparacion de la superfice y el precio entre Valdemorillo y Galapagar parace  que al inicio se semejan uniendose los puntos caso cmo una linea\")\n",
    "print(\"Luego se disipan y Valdemorillo crece mas rapido de form exponencial, teniendo incluso algun valor atipico \")\n"
   ]
  },
  {
   "cell_type": "markdown",
   "id": "3275db77",
   "metadata": {},
   "source": [
    "#### Make the same plot for 4 different populations (level5) and rearrange them on the same graph? (★★☆) \n",
    "Hint: make a scatter plot of each population using subplots."
   ]
  },
  {
   "cell_type": "code",
   "execution_count": null,
   "id": "e08292ff",
   "metadata": {},
   "outputs": [
    {
     "data": {
      "image/png": "[encoded data removed]",
      "text/plain": [
       "<Figure size 1800x576 with 5 Axes>"
      ]
     },
     "metadata": {
      "needs_background": "light"
     },
     "output_type": "display_data"
    }
   ],
   "source": [
    "\n",
    "filtered_data_frame = df_real_estate[['level5', 'price', 'surface']]\n",
    "populations_to_filter = ('Valdemorillo', 'Galapagar', 'Getafe', 'Alcorcón')\n",
    "population_data_frames_dict = {\n",
    "    population: filtered_data_frame[filtered_data_frame['level5'] == population].dropna()\n",
    "    for population in populations_to_filter\n",
    "}\n",
    "\n",
    "plt.figure(figsize=(25, 8))\n",
    "plt.ylabel('Surface')\n",
    "\n",
    "for index, population in enumerate(populations_to_filter):\n",
    "    plt.subplot(1, 5, index + 1)\n",
    "    plt.scatter(population_data_frames_dict[populations_to_filter[index]]['price'],\n",
    "        population_data_frames_dict[populations_to_filter[index]]['surface'],\n",
    "        label=populations_to_filter[index], color='firebrick')\n",
    "    plt.legend(loc='upper left')\n",
    "    plt.subplot(1, 5, 5)\n",
    "    plt.scatter(population_data_frames_dict[populations_to_filter[index]]['price'],\n",
    "        population_data_frames_dict[populations_to_filter[index]]['surface'],\n",
    "        label=populations_to_filter[index])\n",
    "\n",
    "plt.subplot(1, 5, 5)\n",
    "plt.legend(loc='upper left')\n",
    "plt.subplot(1, 5, 3)\n",
    "plt.xlabel('Price')\n",
    "plt.show()"
   ]
  },
  {
   "cell_type": "markdown",
   "id": "522c6bd9",
   "metadata": {},
   "source": [
    "#### How many  real estate agencies the dataset contains? (★★☆) "
   ]
  },
  {
   "cell_type": "code",
   "execution_count": null,
   "id": "014ec6c8",
   "metadata": {},
   "outputs": [
    {
     "name": "stdout",
     "output_type": "stream",
     "text": [
      "14217\n"
     ]
    }
   ],
   "source": [
    "grouped_filtered = df_real_estate.groupby(['id_realEstates'])\n",
    "grouped_filtered = grouped_filtered['id_realEstates']\n",
    "print(len(grouped_filtered.size()))"
   ]
  },
  {
   "cell_type": "markdown",
   "id": "899a101e",
   "metadata": {},
   "source": [
    "#### What is the population (level 5) that contains the most houses? (★★☆) "
   ]
  },
  {
   "cell_type": "code",
   "execution_count": null,
   "id": "9e8b34ba",
   "metadata": {},
   "outputs": [
    {
     "name": "stdout",
     "output_type": "stream",
     "text": [
      " Madrid Capital\n"
     ]
    }
   ],
   "source": [
    "grouped_filtered = df_real_estate.groupby(['level5'])\n",
    "houses = grouped_filtered['level5'].count()\n",
    "print(houses.idxmax())"
   ]
  }
 ],
 "metadata": {
  "kernelspec": {
   "display_name": "Python 3.8.13 64-bit ('3.8.13')",
   "language": "python",
   "name": "python3"
  },
  "language_info": {
   "codemirror_mode": {
    "name": "ipython",
    "version": 3
   },
   "file_extension": ".py",
   "mimetype": "text/x-python",
   "name": "python",
   "nbconvert_exporter": "python",
   "pygments_lexer": "ipython3",
   "version": "3.8.13"
  },
  "vscode": {
   "interpreter": {
    "hash": "110cc1dee26208153f2972f08a2ad52b6a56238dc66d48e87fb757ef2996db56"
   }
  }
 },
 "nbformat": 4,
 "nbformat_minor": 5
}
